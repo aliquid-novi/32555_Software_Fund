{
 "cells": [
  {
   "cell_type": "code",
   "execution_count": 63,
   "id": "6e99ec65-1c55-424d-a075-854237030e95",
   "metadata": {},
   "outputs": [
    {
     "name": "stdout",
     "output_type": "stream",
     "text": [
      "Checking if 'student.data' exists...\n",
      "File 'student.data' exists.\n",
      "Checking if 'student.data' exists...\n",
      "File 'student.data' exists.\n",
      "\u001b[96mStudent Course Menu (c/e/r/s/x):\u001b[0m\n"
     ]
    },
    {
     "name": "stdin",
     "output_type": "stream",
     "text": [
      " s\n"
     ]
    },
    {
     "name": "stdout",
     "output_type": "stream",
     "text": [
      "\u001b[93mShowing 4 subjects\u001b[0m\n",
      "  Subject::085 -- mark = 32 -- grade == F\n",
      "  Subject::084 -- mark = 100 -- grade == HD\n",
      "  Subject::723 -- mark = 77 -- grade == D\n",
      "  Subject::216 -- mark = 25 -- grade == F\n",
      "\u001b[96mStudent Course Menu (c/e/r/s/x):\u001b[0m\n"
     ]
    },
    {
     "name": "stdin",
     "output_type": "stream",
     "text": [
      " e\n"
     ]
    },
    {
     "name": "stdout",
     "output_type": "stream",
     "text": [
      "\u001b[91mStudents are allowed to enrol in 4 subjects only\u001b[0m\n",
      "\u001b[96mStudent Course Menu (c/e/r/s/x):\u001b[0m\n"
     ]
    },
    {
     "name": "stdin",
     "output_type": "stream",
     "text": [
      " r\n",
      "Remove Subject by ID:  sad\n"
     ]
    },
    {
     "name": "stdout",
     "output_type": "stream",
     "text": [
      "\u001b[91mError: Subject-sad is not in subject list. Available subjects are:\u001b[0m\n",
      " - Subject: 085\n",
      " - Subject: 084\n",
      " - Subject: 723\n",
      " - Subject: 216\n",
      "\u001b[91mOr press 'b' to go back to menu\u001b[0m\n"
     ]
    },
    {
     "name": "stdin",
     "output_type": "stream",
     "text": [
      "Remove Subject by ID:  085\n"
     ]
    },
    {
     "name": "stdout",
     "output_type": "stream",
     "text": [
      "\u001b[93mDropping Subject-085\u001b[0m\n",
      "Data written to student.data\n",
      "\u001b[93mYou are now enrolled in 3 out of 4 subjects\u001b[0m\n",
      "\u001b[96mStudent Course Menu (c/e/r/s/x):\u001b[0m\n"
     ]
    },
    {
     "name": "stdin",
     "output_type": "stream",
     "text": [
      " x\n"
     ]
    },
    {
     "name": "stdout",
     "output_type": "stream",
     "text": [
      "Exiting the student course system...\n"
     ]
    }
   ],
   "source": [
    "# Libraries\n",
    "import random\n",
    "import os\n",
    "import json\n",
    "\n",
    "class SubjectClass():\n",
    "\n",
    "    def Gen_SubjectID(self):\n",
    "        \n",
    "        number = random.randint(1,999)\n",
    "        formatted_id = f\"{number:03d}\"\n",
    "        return(formatted_id)\n",
    "    \n",
    "    def Gen_Results(self):\n",
    "        # Generate Marks + Grade in same function\n",
    "        mark = random.randint(25,100)\n",
    "        if mark <= 49:\n",
    "            grade = 'F'\n",
    "        elif mark >= 50 and mark <= 64:\n",
    "            grade = 'P'\n",
    "        elif mark >= 65 and mark <= 74:\n",
    "            grade = 'C'\n",
    "        elif mark >= 75 and mark <= 84:\n",
    "            grade = 'D'\n",
    "        elif mark > 85:\n",
    "            grade = 'HD'\n",
    "        \n",
    "        return mark, grade\n",
    "    \n",
    "class DataBase:\n",
    "    def __init__(self, filename=\"student.data\"):\n",
    "        self.filename = filename \n",
    "        self.check_and_create_file()\n",
    "\n",
    "    def check_and_create_file(self):\n",
    "        print(f\"Checking if '{self.filename}' exists...\")\n",
    "        if not os.path.exists(self.filename):\n",
    "            with open(self.filename, 'w') as file:\n",
    "                file.write(\"\")  # Create an empty file\n",
    "            print(f\"File '{self.filename}' created.\")\n",
    "        else:\n",
    "            print(f\"File '{self.filename}' exists.\")\n",
    "\n",
    "    def write(self, data):\n",
    "        try:\n",
    "            with open(self.filename, 'w') as fileHandler:\n",
    "                json.dump(data, fileHandler, indent=2)\n",
    "                fileHandler.flush()\n",
    "                os.fsync(fileHandler.fileno())\n",
    "            print(f\"Data written to {self.filename}\")\n",
    "        except Exception as e:\n",
    "            print(f\"An error occurred while writing to the file: {e}\")\n",
    "\n",
    "    def read(self):\n",
    "        try:\n",
    "            if not os.path.exists(self.filename):\n",
    "                print(f\"File '{self.filename}' does not exist.\")\n",
    "                return {\"students\": {}, \"used_ids\": []}\n",
    "            if os.stat(self.filename).st_size == 0:\n",
    "                print(f\"File '{self.filename}' is empty.\")\n",
    "                return {\"students\": {}, \"used_ids\": []}\n",
    "            with open(self.filename, 'r') as fileHandler:\n",
    "                return json.load(fileHandler)\n",
    "        except json.JSONDecodeError:\n",
    "            print(\"Error: File contains invalid JSON.\")\n",
    "            return {\"students\": {}, \"used_ids\": []}\n",
    "        except Exception as e:\n",
    "            print(f\"An error occurred: {e}\")\n",
    "            return {\"students\": {}, \"used_ids\": []}\n",
    "\n",
    "class Backend():\n",
    "    \"Needs 'db' DataBase object to perform get_count function\"\n",
    "\n",
    "    def __init__(self, email):\n",
    "        self.filename = 'student.data'\n",
    "        self.db = DataBase()\n",
    "        self.students = self.db.read()\n",
    "        self.student = email\n",
    "\n",
    "    @staticmethod\n",
    "    def print_col(text, colour):\n",
    "        colours = {\n",
    "            'blue': '\\033[96m',   # Blue\n",
    "            'yellow': '\\033[93m', # Yellow\n",
    "            'red': '\\033[91m',    # Red\n",
    "            'end': '\\033[0m',\n",
    "        }\n",
    "        \n",
    "        colour_code = colours.get(colour, colours['end'])\n",
    "        print(f\"{colour_code}{text}{colours['end']}\")\n",
    "\n",
    "    @staticmethod\n",
    "    def standard_user_input():\n",
    "        Backend.print_col(\"Student Course Menu (c/e/r/s/x):\", 'blue') \n",
    "        user_input = input()\n",
    "        return user_input\n",
    "    \n",
    "    def check_sub(self):\n",
    "        data = self.students\n",
    "        if 'subjects' not in data['students'][self.student]:\n",
    "            return False\n",
    "\n",
    "    def get_count(self):\n",
    "        return len(self.students['students'].get(self.student, {}).get('subjects', []))\n",
    "\n",
    "    \n",
    "    @staticmethod\n",
    "    def update_password():\n",
    "        new_password = input(\"New Password:\")\n",
    "        confirm_password = input(\"Confirm Password:\")\n",
    "        \n",
    "        while confirm_password != new_password:\n",
    "            Backend.print_col(\"Password does not match - try again\", \"red\")   \n",
    "            confirm_password = input(\"Confirm Password:\")\n",
    "    \n",
    "    def show(self):\n",
    "        data = self.students\n",
    "        subject_count = Backend.get_count(self)\n",
    "        contents = self.db.read()\n",
    "        if subject_count > 0:\n",
    "            Backend.print_col(f\"Showing {subject_count} subjects\", \"yellow\")\n",
    "            subjects = data['students'][self.student]['subjects']  \n",
    "            for i in range(len(subjects)):\n",
    "                print(f\"  Subject::{subjects[i]['subject']} -- mark = {subjects[i]['mark']} -- grade == {subjects[i]['grade']}\")\n",
    "                \n",
    "            user_input = Backend.standard_user_input()\n",
    "            return user_input\n",
    "        else:\n",
    "            Backend.print_col(\"No subjects currently enrolled.\", \"red\") # Error Handling\n",
    "            user_input = Backend.standard_user_input()\n",
    "            return user_input\n",
    "    \n",
    "    def removal(self):\n",
    "        while True:\n",
    "            subject = str(input(\"Remove Subject by ID: \"))\n",
    "            if subject.lower() == 'b':\n",
    "                return  # Exit the function and return to the main menu immediately\n",
    "\n",
    "            data = self.students\n",
    "            \n",
    "            # Check if the student exists\n",
    "            if 'students' in data and self.student in data['students']:\n",
    "                student_data = data['students'][self.student]\n",
    "\n",
    "                # Check if the subject is listed\n",
    "                subjects = student_data.get('subjects', [])\n",
    "                subject_to_remove = next((s for s in subjects if s['subject'] == subject), None)\n",
    "\n",
    "                if subject_to_remove:\n",
    "                    Backend.print_col(f\"Dropping Subject-{subject}\", \"yellow\")\n",
    "                    # Remove the subject\n",
    "                    subjects.remove(subject_to_remove)\n",
    "\n",
    "                    # Write updated data back to the file\n",
    "                    self.db.write(data)\n",
    "                    Backend.print_col(f\"You are now enrolled in {len(subjects)} out of 4 subjects\", \"yellow\")\n",
    "                    return\n",
    "                else:\n",
    "                    Backend.print_col(f\"Error: Subject-{subject} is not in subject list. Available subjects are:\", \"red\")\n",
    "                    for s in subjects:\n",
    "                        print(f\" - Subject: {s['subject']}\")\n",
    "                    Backend.print_col(f\"Or press 'b' to go back to menu\", \"red\")\n",
    "            else:\n",
    "                Backend.print_col(\"Error: Student data not found.\", \"red\")\n",
    "                return\n",
    "\n",
    "    def enrollment(self):\n",
    "        subject_count = Backend.get_count(self)\n",
    "        if subject_count >= 4: # Error Handling\n",
    "            Backend.print_col(\"Students are allowed to enrol in 4 subjects only\", \"red\")\n",
    "            user_input = Backend.standard_user_input()\n",
    "        else:\n",
    "            subject_id = SubjectClass.Gen_SubjectID(self)\n",
    "            mark, grade = SubjectClass.Gen_Results(self)\n",
    "            Backend.print_col(f\"Enrolling in Subject-{subject_id}\", \"yellow\")\n",
    "            \n",
    "            # Load student data\n",
    "            data = self.students\n",
    "\n",
    "            if 'subjects' not in data['students'][self.student]:\n",
    "                data['students'][self.student]['subjects'] = []\n",
    "\n",
    "            subjects = {'subject': subject_id, 'mark': mark, 'grade': grade}\n",
    "            data['students'][self.student]['subjects'].append(subjects)\n",
    "            # print(f\"Updated data: {data}\")\n",
    "            # Write updated data\n",
    "            self.db.write(data)\n",
    "            # print(\"Data written to file.\")\n",
    "\n",
    "            subject_count = Backend.get_count(self)\n",
    "            Backend.print_col(f\"You are now enrolled in {subject_count} out of 4 subjects\", \"yellow\")\n",
    "            user_input = Backend.standard_user_input()\n",
    "\n",
    "        return user_input\n",
    "\n",
    "class StuCourseSys():\n",
    "\n",
    "    def __init__(self, email):\n",
    "\n",
    "        self.db = DataBase()\n",
    "        self.be = Backend(email)\n",
    "        self.contents = self.db.read()\n",
    "        self.user_input = self.be.standard_user_input()\n",
    "        self.correct_inputs = ['x', 'c', 'e', 'r', 's']\n",
    "\n",
    "    def main(self):\n",
    "\n",
    "        while self.user_input != 'x':\n",
    "            \n",
    "            if self.user_input == 'c': # Changing Subject\n",
    "                self.be.print_col(\"Updating Password\", \"yellow\")\n",
    "                self.be.update_password()\n",
    "                self.user_input = self.be.standard_user_input()\n",
    "                \n",
    "            elif self.user_input == 'e': # Enrollment \n",
    "                self.user_input = self.be.enrollment()\n",
    "                    \n",
    "            elif self.user_input == 'r':  # Removing Subject\n",
    "                self.be.removal()\n",
    "                self.user_input = self.be.standard_user_input()\n",
    "                    \n",
    "            elif self.user_input == 's': # Showing subjects\n",
    "                self.user_input = self.be.show()\n",
    "\n",
    "            elif self.user_input not in self.correct_inputs: # Error Handling\n",
    "                self.be.print_col(f\"Input {self.user_input} not a valid input. Try again...\", \"red\") \n",
    "                self.user_input = self.be.standard_user_input()\n",
    "\n",
    "class StuCourseSys():\n",
    "\n",
    "    def __init__(self, email):\n",
    "        self.db = DataBase()\n",
    "        self.be = Backend(email)\n",
    "        self.students = self.db.read()\n",
    "        self.user_input = self.be.standard_user_input()\n",
    "        self.correct_inputs = ['x', 'c', 'e', 'r', 's']\n",
    "\n",
    "    def main(self):\n",
    "        try:\n",
    "            while self.user_input != 'x':\n",
    "                try:\n",
    "                    if self.user_input == 'c':  # Changing Subject\n",
    "                        self.be.print_col(\"Updating Password\", \"yellow\")\n",
    "                        self.be.update_password()\n",
    "                        self.user_input = self.be.standard_user_input()\n",
    "                        \n",
    "                    elif self.user_input == 'e':  # Enrollment\n",
    "                        self.user_input = self.be.enrollment()\n",
    "                        \n",
    "                    elif self.user_input == 'r':  # Removing Subject\n",
    "                        self.be.removal()\n",
    "                        self.user_input = self.be.standard_user_input()\n",
    "                        \n",
    "                    elif self.user_input == 's':  # Showing subjects\n",
    "                        self.user_input = self.be.show()\n",
    "\n",
    "                    elif self.user_input not in self.correct_inputs:  # Error Handling\n",
    "                        self.be.print_col(f\"Input {self.user_input} not a valid input. Try again...\", \"red\")\n",
    "                        self.user_input = self.be.standard_user_input()\n",
    "\n",
    "                except Exception as e:\n",
    "                    print(f\"An error occurred during operation: {str(e)}\")\n",
    "                    # Optionally offer the user to retry the action or return to the main menu\n",
    "                    self.user_input = self.be.standard_user_input()\n",
    "\n",
    "        except KeyboardInterrupt:\n",
    "            print(\"\\nOperation canceled by user.\")\n",
    "        except Exception as e:\n",
    "            print(f\"An unexpected error occurred: {str(e)}\")\n",
    "        finally:\n",
    "            print(\"Exiting the student course system...\")\n",
    "\n",
    "            \n",
    "if __name__ == \"__main__\":\n",
    "    system = StuCourseSys('anamarija.bojceska@university.com')\n",
    "    system.main()\n"
   ]
  },
  {
   "cell_type": "code",
   "execution_count": 16,
   "id": "cb7b0c5b-b141-4c08-a7fd-4ac597f396cb",
   "metadata": {},
   "outputs": [
    {
     "name": "stdout",
     "output_type": "stream",
     "text": [
      "Checking if 'student.data' exists...\n",
      "File 'student.data' exists.\n"
     ]
    }
   ],
   "source": [
    "db = DataBase()"
   ]
  },
  {
   "cell_type": "code",
   "execution_count": 17,
   "id": "76b95c41-78b2-4886-94f2-8820bf07065e",
   "metadata": {},
   "outputs": [
    {
     "data": {
      "text/plain": [
       "{'students': {'jialing.huang@university.com': {'first_name': 'jialing',\n",
       "   'last_name': 'huang',\n",
       "   'email': 'jialing.huang@university.com',\n",
       "   'password': 'Helloworld123',\n",
       "   'student_id': '787244'},\n",
       "  'john.smith@university.com': {'first_name': 'john',\n",
       "   'last_name': 'smith',\n",
       "   'email': 'john.smith@university.com',\n",
       "   'password': 'Helloworld123',\n",
       "   'student_id': '227569'},\n",
       "  'alen.jones@university.com': {'first_name': 'alen',\n",
       "   'last_name': 'jones',\n",
       "   'email': 'alen.jones@university.com',\n",
       "   'password': 'Helloworld123',\n",
       "   'student_id': '713228'}},\n",
       " 'used_ids': [227569, 787244, 713228]}"
      ]
     },
     "execution_count": 17,
     "metadata": {},
     "output_type": "execute_result"
    }
   ],
   "source": [
    "db.read()"
   ]
  },
  {
   "cell_type": "code",
   "execution_count": 18,
   "id": "1a60f522-1084-4db4-945b-a293bfb3e597",
   "metadata": {},
   "outputs": [
    {
     "name": "stdout",
     "output_type": "stream",
     "text": [
      "Checking if 'student.data' exists...\n",
      "File 'student.data' exists.\n"
     ]
    }
   ],
   "source": [
    "be = Backend('alen.jones@university.com')"
   ]
  },
  {
   "cell_type": "code",
   "execution_count": 70,
   "id": "c04d6bbb-70bf-4b19-b70e-978348f7ba0a",
   "metadata": {
    "tags": []
   },
   "outputs": [],
   "source": [
    "import logging\n",
    "\n",
    "class Controller:\n",
    "    def __init__(self, email):\n",
    "        self.backend = Backend(email)\n",
    "\n",
    "    def enroll_student(self):\n",
    "        self.backend.enrollment(self)\n",
    "\n",
    "    def remove_subject(self, subject_id):\n",
    "        self.backend.removal(subject_id)\n",
    "        logging.info(f\"Subject {subject_id} removed\")\n",
    "\n",
    "    def show_subjects(self):\n",
    "        return self.backend.show"
   ]
  },
  {
   "cell_type": "code",
   "execution_count": 24,
   "id": "f72a402e-a6cc-4637-83b1-79556783797e",
   "metadata": {},
   "outputs": [
    {
     "name": "stdin",
     "output_type": "stream",
     "text": [
      "Student System (l/r/x):  l\n"
     ]
    },
    {
     "name": "stdout",
     "output_type": "stream",
     "text": [
      "\u001b[92mStudent Sign In\u001b[0m\n"
     ]
    },
    {
     "name": "stdin",
     "output_type": "stream",
     "text": [
      "Enter your email:  john.smith@university.com\n",
      "Enter your password:  Helloworld123\n"
     ]
    },
    {
     "name": "stdout",
     "output_type": "stream",
     "text": [
      "\u001b[92mLogin successful!\u001b[0m\n",
      "Checking if 'student.data' exists...\n",
      "File 'student.data' exists.\n",
      "Checking if 'student.data' exists...\n",
      "File 'student.data' exists.\n",
      "\u001b[96mStudent Course Menu (c/e/r/s/x):\u001b[0m\n"
     ]
    },
    {
     "name": "stdin",
     "output_type": "stream",
     "text": [
      " e\n"
     ]
    },
    {
     "name": "stdout",
     "output_type": "stream",
     "text": [
      "\u001b[93mEnrolling in Subject-930\u001b[0m\n",
      "Data written to student.data\n",
      "\u001b[93mYou are now enrolled in 4 out of 4 subjects\u001b[0m\n",
      "\u001b[96mStudent Course Menu (c/e/r/s/x):\u001b[0m\n"
     ]
    },
    {
     "name": "stdin",
     "output_type": "stream",
     "text": [
      " e\n"
     ]
    },
    {
     "name": "stdout",
     "output_type": "stream",
     "text": [
      "\u001b[91mStudents are allowed to enrol in 4 subjects only\u001b[0m\n",
      "\u001b[96mStudent Course Menu (c/e/r/s/x):\u001b[0m\n"
     ]
    },
    {
     "name": "stdin",
     "output_type": "stream",
     "text": [
      " x\n",
      "Student System (l/r/x):  x\n"
     ]
    },
    {
     "name": "stdout",
     "output_type": "stream",
     "text": [
      "\u001b[93mThank you!\u001b[0m\n"
     ]
    }
   ],
   "source": [
    "from student_controller import StudentController\n",
    "import Student_Course_System_copy\n",
    "\n",
    "def main():\n",
    "    controller = StudentController()\n",
    "\n",
    "    while True:\n",
    "        command = input(\"Student System (l/r/x): \").strip().lower()\n",
    "        if command == 'x':\n",
    "            print(\"\\033[93mThank you!\\033[0m\")  # Yellow color for \"Thank you!\"\n",
    "            break\n",
    "        elif command == 'l':\n",
    "            print(\"\\033[92mStudent Sign In\\033[0m\")\n",
    "            email = input(\"Enter your email: \").strip()\n",
    "            password = input(\"Enter your password: \").strip()\n",
    "            success, message = controller.login_student(email, password)\n",
    "            if success:\n",
    "                print(\"\\033[92mLogin successful!\\033[0m\")\n",
    "                course_sys = Student_Course_System_copy.StuCourseSys(email)\n",
    "                course_sys.main()  # Main interactive loop of course system\n",
    "            else:\n",
    "                print(\"\\033[91mStudent does not exist\\033[0m\")\n",
    "        elif command == 'r':\n",
    "            # Similar setup for registration...\n",
    "            pass\n",
    "\n",
    "if __name__ == '__main__':\n",
    "    main()"
   ]
  },
  {
   "cell_type": "code",
   "execution_count": 30,
   "id": "5fce0599-593d-4a07-9ad9-04d9720c55ca",
   "metadata": {},
   "outputs": [
    {
     "name": "stdout",
     "output_type": "stream",
     "text": [
      "Checking if 'student.data' exists...\n",
      "File 'student.data' exists.\n"
     ]
    }
   ],
   "source": [
    "backend = Backend(\"john.smith@university.com\")"
   ]
  },
  {
   "cell_type": "code",
   "execution_count": 48,
   "id": "3fdf5a6e-3b3f-4302-a76d-1ace0ea9e4d9",
   "metadata": {},
   "outputs": [
    {
     "name": "stdout",
     "output_type": "stream",
     "text": [
      "\u001b[93mShowing 4 subjects\u001b[0m\n",
      "  Subject::593 -- mark = 45 -- grade == F\n",
      "  Subject::414 -- mark = 89 -- grade == HD\n",
      "  Subject::930 -- mark = 73 -- grade == C\n",
      "  Subject::987 -- mark = 95 -- grade == HD\n",
      "\u001b[96mStudent Course Menu (c/e/r/s/x):\u001b[0m\n"
     ]
    },
    {
     "name": "stdin",
     "output_type": "stream",
     "text": [
      " d\n"
     ]
    },
    {
     "data": {
      "text/plain": [
       "'d'"
      ]
     },
     "execution_count": 48,
     "metadata": {},
     "output_type": "execute_result"
    }
   ],
   "source": [
    "backend.show()"
   ]
  },
  {
   "cell_type": "code",
   "execution_count": 49,
   "id": "bfb9cca9-1c4f-4c17-9fe0-418887a5075b",
   "metadata": {},
   "outputs": [
    {
     "name": "stdout",
     "output_type": "stream",
     "text": [
      "\u001b[93mShowing 4 subjects\u001b[0m\n",
      "  Subject::593 -- mark = 45 -- grade == F\n",
      "  Subject::414 -- mark = 89 -- grade == HD\n",
      "  Subject::930 -- mark = 73 -- grade == C\n",
      "  Subject::987 -- mark = 95 -- grade == HD\n",
      "\u001b[96mStudent Course Menu (c/e/r/s/x):\u001b[0m\n"
     ]
    },
    {
     "name": "stdin",
     "output_type": "stream",
     "text": [
      " x\n"
     ]
    },
    {
     "data": {
      "text/plain": [
       "'x'"
      ]
     },
     "execution_count": 49,
     "metadata": {},
     "output_type": "execute_result"
    }
   ],
   "source": [
    "backend.show()"
   ]
  },
  {
   "cell_type": "code",
   "execution_count": 52,
   "id": "73c07905-4e2a-4c7d-b1e7-09249809a55a",
   "metadata": {},
   "outputs": [
    {
     "data": {
      "text/plain": [
       "4"
      ]
     },
     "execution_count": 52,
     "metadata": {},
     "output_type": "execute_result"
    }
   ],
   "source": [
    "backend.get_count()"
   ]
  },
  {
   "cell_type": "code",
   "execution_count": 57,
   "id": "ff335dba-fdfa-4c17-ac70-a98893009d06",
   "metadata": {},
   "outputs": [
    {
     "data": {
      "text/plain": [
       "{'students': {'jialing.huang@university.com': {'first_name': 'jialing',\n",
       "   'last_name': 'huang',\n",
       "   'email': 'jialing.huang@university.com',\n",
       "   'password': 'Helloworld123',\n",
       "   'student_id': '787244'},\n",
       "  'john.smith@university.com': {'first_name': 'john',\n",
       "   'last_name': 'smith',\n",
       "   'email': 'john.smith@university.com',\n",
       "   'password': 'Helloworld123',\n",
       "   'student_id': '227569',\n",
       "   'subjects': [{'subject': '593', 'mark': 45, 'grade': 'F'},\n",
       "    {'subject': '414', 'mark': 89, 'grade': 'HD'},\n",
       "    {'subject': '930', 'mark': 73, 'grade': 'C'},\n",
       "    {'subject': '987', 'mark': 95, 'grade': 'HD'}]},\n",
       "  'alen.jones@university.com': {'first_name': 'alen',\n",
       "   'last_name': 'jones',\n",
       "   'email': 'alen.jones@university.com',\n",
       "   'password': 'Helloworld123',\n",
       "   'student_id': '713228'}},\n",
       " 'used_ids': [227569, 787244, 713228]}"
      ]
     },
     "execution_count": 57,
     "metadata": {},
     "output_type": "execute_result"
    }
   ],
   "source": [
    "contents = db.read()\n",
    "contents"
   ]
  },
  {
   "cell_type": "code",
   "execution_count": 59,
   "id": "69c33098-3c6e-4edf-947e-d19e00954fbf",
   "metadata": {},
   "outputs": [
    {
     "data": {
      "text/plain": [
       "{'first_name': 'john',\n",
       " 'last_name': 'smith',\n",
       " 'email': 'john.smith@university.com',\n",
       " 'password': 'Helloworld123',\n",
       " 'student_id': '227569',\n",
       " 'subjects': [{'subject': '593', 'mark': 45, 'grade': 'F'},\n",
       "  {'subject': '414', 'mark': 89, 'grade': 'HD'},\n",
       "  {'subject': '930', 'mark': 73, 'grade': 'C'},\n",
       "  {'subject': '987', 'mark': 95, 'grade': 'HD'}]}"
      ]
     },
     "execution_count": 59,
     "metadata": {},
     "output_type": "execute_result"
    }
   ],
   "source": [
    "contents['students']['john.smith@university.com']"
   ]
  },
  {
   "cell_type": "code",
   "execution_count": 39,
   "id": "758da160-a966-4261-b763-b0fa6f4202a0",
   "metadata": {},
   "outputs": [],
   "source": [
    "email = 'john.smith@university.com'"
   ]
  },
  {
   "cell_type": "code",
   "execution_count": 53,
   "id": "ea31cb8c-2b0f-4d9a-8802-3cfc7195d8e5",
   "metadata": {},
   "outputs": [],
   "source": [
    "current_subs = []"
   ]
  },
  {
   "cell_type": "code",
   "execution_count": 55,
   "id": "ad360404-8910-4714-ae64-8ccab9f5814f",
   "metadata": {},
   "outputs": [],
   "source": [
    "for i in range(len(contents['students'][email]['subjects'])):\n",
    "    current_subs.append(contents['students'][email]['subjects'][i]['subject'])"
   ]
  },
  {
   "cell_type": "code",
   "execution_count": 56,
   "id": "1ed4cbf2-5594-46fe-85a3-9f836b0adb11",
   "metadata": {},
   "outputs": [
    {
     "data": {
      "text/plain": [
       "['593', '414', '930', '987']"
      ]
     },
     "execution_count": 56,
     "metadata": {},
     "output_type": "execute_result"
    }
   ],
   "source": [
    "current_subs"
   ]
  },
  {
   "cell_type": "code",
   "execution_count": 26,
   "id": "9228d734-3093-4972-ba94-541acb9eed6d",
   "metadata": {
    "tags": []
   },
   "outputs": [
    {
     "name": "stdout",
     "output_type": "stream",
     "text": [
      "Current working directory: C:\\Users\\markp\\OneDrive\\Documents\\GitHub\\Uni Work\\32555 - Fund._of_Software_Dev\\32555_Software_Fund\\Student System\n",
      "Full path to data file: C:\\Users\\markp\\OneDrive\\Documents\\GitHub\\Uni Work\\32555 - Fund._of_Software_Dev\\32555_Software_Fund\\Student System\\student.data\n"
     ]
    },
    {
     "name": "stdin",
     "output_type": "stream",
     "text": [
      "Student System (l/r/x):  x\n"
     ]
    },
    {
     "name": "stdout",
     "output_type": "stream",
     "text": [
      "\u001b[93mThank you!\u001b[0m\n"
     ]
    }
   ],
   "source": [
    "from student_controller import StudentController\n",
    "import Student_Course_System_copy\n",
    "import re\n",
    "\n",
    "import os\n",
    "print(\"Current working directory:\", os.getcwd())\n",
    "print(\"Full path to data file:\", os.path.abspath(\"student.data\"))\n",
    "\n",
    "def main():\n",
    "    controller = StudentController()\n",
    "    \n",
    "    while True:\n",
    "        command = input(\"Student System (l/r/x): \").strip().lower()\n",
    "\n",
    "        if command == 'x':\n",
    "            print(\"\\033[93mThank you!\\033[0m\")  # Yellow color for \"Thank you!\"\n",
    "            break\n",
    "        \n",
    "        elif command == 'l':\n",
    "            print(\"\\033[92mStudent Sign In\\033[0m\")\n",
    "            email = input(\"Enter your email: \").strip()\n",
    "            password = input(\"Enter your password: \").strip()\n",
    "\n",
    "            if not re.match(r'^[A-Z][a-zA-Z]{5,}\\d{3,}$', password) or not re.match(r'^([a-zA-Z]+)\\.([a-zA-Z]+)@university\\.com$', email):\n",
    "                print(\"\\033[91mIncorrect email or password format\\033[0m\")\n",
    "            else:\n",
    "                success, message = controller.login_student(email, password)\n",
    "                if success:\n",
    "                    print(\"\\033[92mLogin successful!\\033[0m\")\n",
    "                    course_sys = Student_Course_System_copy.StuCourseSys(email) \n",
    "                    course_sys.main()\n",
    "                else:\n",
    "                    print(controller.load_students())\n",
    "                    print(\"\\033[91mStudent does not exist\\033[0m\")\n",
    "\n",
    "        elif command == 'r':\n",
    "            print(\"\\033[92mStudent Sign Up\\033[0m\")\n",
    "            email = input(\"Enter your email: \").strip()\n",
    "            password = input(\"Enter your password: \").strip()\n",
    "\n",
    "            if not re.match(r'^[A-Z][a-zA-Z]{5,}\\d{3,}$', password) or not re.match(r'^([a-zA-Z]+)\\.([a-zA-Z]+)@university\\.com$', email):\n",
    "                print(\"\\033[91mIncorrect email or password format\\033[0m\")\n",
    "            else:\n",
    "                try:\n",
    "                    firstname, lastname = email.split('@')[0].split('.')\n",
    "                    success, message = controller.register_student(firstname, lastname, email, password)\n",
    "                    if success:\n",
    "                        print(\"\\033[93m{}\".format(message), \"\\033[0m\")\n",
    "                    else:\n",
    "                        print(\"\\033[91m{}\".format(message), \"\\033[0m\")\n",
    "                except ValueErro:\n",
    "                    print(\"\\033[91mInvalid email format. Please use firstname.lastname@university.com\\033[0m\")\n",
    "        else:\n",
    "            print(\"\\033[91mInvalid command. Please enter 'lto login, 'r' to register, or 'x' to exit.\\033[0m\")\n",
    "\n",
    "if __name__ == '__main__':\n",
    "    main()"
   ]
  },
  {
   "cell_type": "code",
   "execution_count": 28,
   "id": "b297ee65-b1dc-44ba-81b0-193ab8ffca05",
   "metadata": {},
   "outputs": [
    {
     "data": {
      "text/plain": [
       "{'students': {'jialing.huang@university.com': {'first_name': 'jialing',\n",
       "   'last_name': 'huang',\n",
       "   'email': 'jialing.huang@university.com',\n",
       "   'password': 'Helloworld123',\n",
       "   'student_id': '787244'},\n",
       "  'john.smith@university.com': {'first_name': 'john',\n",
       "   'last_name': 'smith',\n",
       "   'email': 'john.smith@university.com',\n",
       "   'password': 'Helloworld123',\n",
       "   'student_id': '227569',\n",
       "   'subjects': [{'subject': '593', 'mark': 45, 'grade': 'F'},\n",
       "    {'subject': '414', 'mark': 89, 'grade': 'HD'},\n",
       "    {'subject': '930', 'mark': 73, 'grade': 'C'},\n",
       "    {'subject': '987', 'mark': 95, 'grade': 'HD'}]},\n",
       "  'alen.jones@university.com': {'first_name': 'alen',\n",
       "   'last_name': 'jones',\n",
       "   'email': 'alen.jones@university.com',\n",
       "   'password': 'Helloworld123',\n",
       "   'student_id': '713228'}},\n",
       " 'used_ids': [227569, 787244, 713228]}"
      ]
     },
     "execution_count": 28,
     "metadata": {},
     "output_type": "execute_result"
    }
   ],
   "source": [
    "db.read()"
   ]
  },
  {
   "cell_type": "code",
   "execution_count": 76,
   "id": "a14b86a3-ef30-4f0a-ae22-7909d7ec30fd",
   "metadata": {},
   "outputs": [
    {
     "name": "stderr",
     "output_type": "stream",
     "text": [
      "2024-05-18 12:56:39,575 - DEBUG - Reading data from file\n",
      "2024-05-18 12:56:39,576 - ERROR - Error decoding JSON from the file.\n"
     ]
    },
    {
     "name": "stdout",
     "output_type": "stream",
     "text": [
      "Initial data load: {}\n"
     ]
    },
    {
     "ename": "KeyError",
     "evalue": "'students'",
     "output_type": "error",
     "traceback": [
      "\u001b[1;31m---------------------------------------------------------------------------\u001b[0m",
      "\u001b[1;31mKeyError\u001b[0m                                  Traceback (most recent call last)",
      "Cell \u001b[1;32mIn[76], line 1\u001b[0m\n\u001b[1;32m----> 1\u001b[0m be \u001b[38;5;241m=\u001b[39m \u001b[43mBackend\u001b[49m\u001b[43m(\u001b[49m\u001b[38;5;124;43m\"\u001b[39;49m\u001b[38;5;124;43mjohn.smith@university.com\u001b[39;49m\u001b[38;5;124;43m\"\u001b[39;49m\u001b[43m)\u001b[49m\n\u001b[0;32m      2\u001b[0m be\u001b[38;5;241m.\u001b[39mshow()\n",
      "Cell \u001b[1;32mIn[68], line 10\u001b[0m, in \u001b[0;36mBackend.__init__\u001b[1;34m(self, email)\u001b[0m\n\u001b[0;32m      8\u001b[0m \u001b[38;5;28mprint\u001b[39m(\u001b[38;5;124mf\u001b[39m\u001b[38;5;124m\"\u001b[39m\u001b[38;5;124mInitial data load: \u001b[39m\u001b[38;5;132;01m{\u001b[39;00m\u001b[38;5;28mself\u001b[39m\u001b[38;5;241m.\u001b[39mstudents\u001b[38;5;132;01m}\u001b[39;00m\u001b[38;5;124m\"\u001b[39m)  \u001b[38;5;66;03m# Debugging: Show initial data load\u001b[39;00m\n\u001b[0;32m      9\u001b[0m \u001b[38;5;28mself\u001b[39m\u001b[38;5;241m.\u001b[39mstudent \u001b[38;5;241m=\u001b[39m email\n\u001b[1;32m---> 10\u001b[0m \u001b[38;5;28mself\u001b[39m\u001b[38;5;241m.\u001b[39mstudent_file \u001b[38;5;241m=\u001b[39m \u001b[38;5;28;43mself\u001b[39;49m\u001b[38;5;241;43m.\u001b[39;49m\u001b[43mstudents\u001b[49m\u001b[43m[\u001b[49m\u001b[38;5;124;43m'\u001b[39;49m\u001b[38;5;124;43mstudents\u001b[39;49m\u001b[38;5;124;43m'\u001b[39;49m\u001b[43m]\u001b[49m\u001b[38;5;241m.\u001b[39mget(\u001b[38;5;28mself\u001b[39m\u001b[38;5;241m.\u001b[39mstudent, {})\n\u001b[0;32m     11\u001b[0m \u001b[38;5;28mprint\u001b[39m(\u001b[38;5;124mf\u001b[39m\u001b[38;5;124m\"\u001b[39m\u001b[38;5;124mStudent file loaded for \u001b[39m\u001b[38;5;132;01m{\u001b[39;00memail\u001b[38;5;132;01m}\u001b[39;00m\u001b[38;5;124m: \u001b[39m\u001b[38;5;132;01m{\u001b[39;00m\u001b[38;5;28mself\u001b[39m\u001b[38;5;241m.\u001b[39mstudent_file\u001b[38;5;132;01m}\u001b[39;00m\u001b[38;5;124m\"\u001b[39m)\n",
      "\u001b[1;31mKeyError\u001b[0m: 'students'"
     ]
    }
   ],
   "source": [
    "be = Backend(\"john.smith@university.com\")\n",
    "be.show()"
   ]
  },
  {
   "cell_type": "code",
   "execution_count": 77,
   "id": "9ad5e94a-7258-4cae-8a91-1de7f44f13b4",
   "metadata": {},
   "outputs": [
    {
     "name": "stderr",
     "output_type": "stream",
     "text": [
      "2024-05-18 12:56:58,049 - DEBUG - Reading data from file\n",
      "2024-05-18 12:56:58,050 - ERROR - Error decoding JSON from the file.\n"
     ]
    },
    {
     "name": "stdout",
     "output_type": "stream",
     "text": [
      "Initial data load: {}\n"
     ]
    },
    {
     "ename": "KeyError",
     "evalue": "'students'",
     "output_type": "error",
     "traceback": [
      "\u001b[1;31m---------------------------------------------------------------------------\u001b[0m",
      "\u001b[1;31mKeyError\u001b[0m                                  Traceback (most recent call last)",
      "Cell \u001b[1;32mIn[77], line 2\u001b[0m\n\u001b[0;32m      1\u001b[0m \u001b[38;5;28;01mif\u001b[39;00m \u001b[38;5;18m__name__\u001b[39m \u001b[38;5;241m==\u001b[39m \u001b[38;5;124m\"\u001b[39m\u001b[38;5;124m__main__\u001b[39m\u001b[38;5;124m\"\u001b[39m:\n\u001b[1;32m----> 2\u001b[0m     system \u001b[38;5;241m=\u001b[39m \u001b[43mStuCourseSys\u001b[49m\u001b[43m(\u001b[49m\u001b[38;5;124;43m'\u001b[39;49m\u001b[38;5;124;43mcarm.page@university.com\u001b[39;49m\u001b[38;5;124;43m'\u001b[39;49m\u001b[43m)\u001b[49m\n\u001b[0;32m      3\u001b[0m     system\u001b[38;5;241m.\u001b[39mmain()\n",
      "Cell \u001b[1;32mIn[68], line 113\u001b[0m, in \u001b[0;36mStuCourseSys.__init__\u001b[1;34m(self, email)\u001b[0m\n\u001b[0;32m    111\u001b[0m \u001b[38;5;28;01mdef\u001b[39;00m \u001b[38;5;21m__init__\u001b[39m(\u001b[38;5;28mself\u001b[39m, email):\n\u001b[0;32m    112\u001b[0m     \u001b[38;5;28mself\u001b[39m\u001b[38;5;241m.\u001b[39mdb \u001b[38;5;241m=\u001b[39m DataBase()\n\u001b[1;32m--> 113\u001b[0m     \u001b[38;5;28mself\u001b[39m\u001b[38;5;241m.\u001b[39mbe \u001b[38;5;241m=\u001b[39m \u001b[43mBackend\u001b[49m\u001b[43m(\u001b[49m\u001b[43memail\u001b[49m\u001b[43m)\u001b[49m\n\u001b[0;32m    114\u001b[0m     \u001b[38;5;28mself\u001b[39m\u001b[38;5;241m.\u001b[39mcontents \u001b[38;5;241m=\u001b[39m \u001b[38;5;28mself\u001b[39m\u001b[38;5;241m.\u001b[39mdb\u001b[38;5;241m.\u001b[39mread()\n\u001b[0;32m    115\u001b[0m     \u001b[38;5;28mself\u001b[39m\u001b[38;5;241m.\u001b[39muser_input \u001b[38;5;241m=\u001b[39m \u001b[38;5;28mself\u001b[39m\u001b[38;5;241m.\u001b[39mbe\u001b[38;5;241m.\u001b[39mstandard_user_input()\n",
      "Cell \u001b[1;32mIn[68], line 10\u001b[0m, in \u001b[0;36mBackend.__init__\u001b[1;34m(self, email)\u001b[0m\n\u001b[0;32m      8\u001b[0m \u001b[38;5;28mprint\u001b[39m(\u001b[38;5;124mf\u001b[39m\u001b[38;5;124m\"\u001b[39m\u001b[38;5;124mInitial data load: \u001b[39m\u001b[38;5;132;01m{\u001b[39;00m\u001b[38;5;28mself\u001b[39m\u001b[38;5;241m.\u001b[39mstudents\u001b[38;5;132;01m}\u001b[39;00m\u001b[38;5;124m\"\u001b[39m)  \u001b[38;5;66;03m# Debugging: Show initial data load\u001b[39;00m\n\u001b[0;32m      9\u001b[0m \u001b[38;5;28mself\u001b[39m\u001b[38;5;241m.\u001b[39mstudent \u001b[38;5;241m=\u001b[39m email\n\u001b[1;32m---> 10\u001b[0m \u001b[38;5;28mself\u001b[39m\u001b[38;5;241m.\u001b[39mstudent_file \u001b[38;5;241m=\u001b[39m \u001b[38;5;28;43mself\u001b[39;49m\u001b[38;5;241;43m.\u001b[39;49m\u001b[43mstudents\u001b[49m\u001b[43m[\u001b[49m\u001b[38;5;124;43m'\u001b[39;49m\u001b[38;5;124;43mstudents\u001b[39;49m\u001b[38;5;124;43m'\u001b[39;49m\u001b[43m]\u001b[49m\u001b[38;5;241m.\u001b[39mget(\u001b[38;5;28mself\u001b[39m\u001b[38;5;241m.\u001b[39mstudent, {})\n\u001b[0;32m     11\u001b[0m \u001b[38;5;28mprint\u001b[39m(\u001b[38;5;124mf\u001b[39m\u001b[38;5;124m\"\u001b[39m\u001b[38;5;124mStudent file loaded for \u001b[39m\u001b[38;5;132;01m{\u001b[39;00memail\u001b[38;5;132;01m}\u001b[39;00m\u001b[38;5;124m: \u001b[39m\u001b[38;5;132;01m{\u001b[39;00m\u001b[38;5;28mself\u001b[39m\u001b[38;5;241m.\u001b[39mstudent_file\u001b[38;5;132;01m}\u001b[39;00m\u001b[38;5;124m\"\u001b[39m)\n",
      "\u001b[1;31mKeyError\u001b[0m: 'students'"
     ]
    }
   ],
   "source": [
    "if __name__ == \"__main__\":\n",
    "    system = StuCourseSys('carm.page@university.com')\n",
    "    system.main()"
   ]
  },
  {
   "cell_type": "code",
   "execution_count": null,
   "id": "bba4b4cd-190c-4467-bf77-f743176ec8d0",
   "metadata": {},
   "outputs": [],
   "source": []
  }
 ],
 "metadata": {
  "kernelspec": {
   "display_name": "Python 3 (ipykernel)",
   "language": "python",
   "name": "python3"
  },
  "language_info": {
   "codemirror_mode": {
    "name": "ipython",
    "version": 3
   },
   "file_extension": ".py",
   "mimetype": "text/x-python",
   "name": "python",
   "nbconvert_exporter": "python",
   "pygments_lexer": "ipython3",
   "version": "3.9.12"
  }
 },
 "nbformat": 4,
 "nbformat_minor": 5
}
