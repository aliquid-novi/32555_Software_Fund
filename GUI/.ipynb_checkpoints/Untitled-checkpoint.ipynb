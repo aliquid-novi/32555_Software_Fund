{
 "cells": [
  {
   "cell_type": "code",
   "execution_count": 5,
   "id": "c783df66-ba1f-4fe3-87d6-391dd15db642",
   "metadata": {},
   "outputs": [],
   "source": [
    "import json\n",
    "import re\n",
    "import sys\n",
    "# # Assuming your module is in the directory \"C:/path/to/your/module\"\n",
    "# # module_dir = r'C:/Users/danie/32555_Software_Fund-1/Student System/Student_Course_System_copy.py' # Anna's relative path?\n",
    "# module_dir = r'32555_Software_Fund\\Student_Course_System.py' # Marks relative path \n",
    "# sys.path.append(module_dir)\n",
    "\n",
    "# import Student_Course_System as controller\n",
    "\n",
    "import sys\n",
    "import os\n"
   ]
  },
  {
   "cell_type": "code",
   "execution_count": 10,
   "id": "d55fcc2a-5f05-485f-be69-f9b5f65296e9",
   "metadata": {},
   "outputs": [],
   "source": [
    "from data_manager import DataManager"
   ]
  },
  {
   "cell_type": "code",
   "execution_count": 26,
   "id": "2d62d1a2-4c9d-4cc1-8f05-ebda6090c432",
   "metadata": {},
   "outputs": [],
   "source": [
    "import random"
   ]
  },
  {
   "cell_type": "code",
   "execution_count": 27,
   "id": "ad8ed8ca-dd2b-4892-a501-86ee045fde66",
   "metadata": {},
   "outputs": [],
   "source": [
    "class SubjectClass():\n",
    "\n",
    "    def Gen_SubjectID(self):\n",
    "        \n",
    "        number = random.randint(1,999)\n",
    "        formatted_id = f\"{number:03d}\"\n",
    "        return(formatted_id)\n",
    "    \n",
    "    def Gen_Results(self):\n",
    "        # Generate Marks + Grade in same function\n",
    "        mark = random.randint(25,100)\n",
    "        if mark <= 49:\n",
    "            grade = 'F'\n",
    "        elif mark >= 50 and mark <= 64:\n",
    "            grade = 'P'\n",
    "        elif mark >= 65 and mark <= 74:\n",
    "            grade = 'C'\n",
    "        elif mark >= 75 and mark <= 84:\n",
    "            grade = 'D'\n",
    "        elif mark >= 85:\n",
    "            grade = 'HD'\n",
    "        \n",
    "        return mark, grade"
   ]
  },
  {
   "cell_type": "code",
   "execution_count": 40,
   "id": "9c03f5af-41f9-47dc-8e75-58dbb719a6b4",
   "metadata": {},
   "outputs": [],
   "source": [
    "class DataBase:\n",
    "    def __init__(self, filename='student.data'):\n",
    "        self.filename = filename\n",
    "        self.check_and_create_file()\n",
    "\n",
    "    def check_and_create_file(self):\n",
    "        print(f\"Checking if '{self.filename}' exists...\")\n",
    "        if not os.path.exists(self.filename):\n",
    "            with open(self.filename, 'w') as file:\n",
    "                file.write(\"\")  # Create an empty file\n",
    "            print(f\"File '{self.filename}' created.\")\n",
    "        else:\n",
    "            print(f\"File '{self.filename}' exists.\")\n",
    "\n",
    "    def write(self, data):\n",
    "        try:\n",
    "            with open(self.filename, 'w') as fileHandler:\n",
    "                json.dump(data, fileHandler, indent=2)\n",
    "                fileHandler.flush()\n",
    "                os.fsync(fileHandler.fileno())\n",
    "            print(f\"Data written to {self.filename}\")\n",
    "        except Exception as e:\n",
    "            print(f\"An error occurred while writing to the file: {e}\")\n",
    "\n",
    "    def read(self):\n",
    "        try:\n",
    "            if not os.path.exists(self.filename):\n",
    "                print(f\"File '{self.filename}' does not exist.\")\n",
    "                return {\"students\": {}, \"used_ids\": []}\n",
    "            if os.stat(self.filename).st_size == 0:\n",
    "                print(f\"File '{self.filename}' is empty.\")\n",
    "                return {\"students\": {}, \"used_ids\": []}\n",
    "            with open(self.filename, 'r') as fileHandler:\n",
    "                return json.load(fileHandler)\n",
    "        except json.JSONDecodeError:\n",
    "            print(\"Error: File contains invalid JSON.\")\n",
    "            return {\"students\": {}, \"used_ids\": []}\n",
    "        except Exception as e:\n",
    "            print(f\"An error occurred: {e}\")\n",
    "            return {\"students\": {}, \"used_ids\": []}"
   ]
  },
  {
   "cell_type": "code",
   "execution_count": 129,
   "id": "2e904c73-23b5-499f-9b8f-3c76a9e53f36",
   "metadata": {},
   "outputs": [],
   "source": [
    "class GUIUniApp():\n",
    "\n",
    "    def __init__(self):\n",
    "        # abs file path. maybe change to a common one later?\n",
    "        self.filepath = r'C:\\Users\\markp\\OneDrive\\Documents\\GitHub\\Uni Work\\32555 - Fund._of_Software_Dev\\32555_Software_Fund\\student.data'\n",
    "        self.data_controller = DataManager(self.filepath)\n",
    "        # Load student data\n",
    "        self.student_data = self.data_controller.get_student_data()\n",
    "        self.logged_in_student = None\n",
    "        self.subjects = SubjectClass()\n",
    "        self.email = ('first.name@university.com')\n",
    "        self.db = DataBase(self.filepath)\n",
    "\n",
    "    def enroll_subject(self, subject):\n",
    "        \n",
    "        self.enrolled_subjects = [] # change to current subjects already\n",
    "        students = self.db.read()\n",
    "        print(students)\n",
    "        print(students['students'])\n",
    "        if 'subjects' not in students['students'][self.email]:\n",
    "                students['students'][self.email]['subjects'] = []\n",
    "            \n",
    "        for i in range(len(students['students'][self.email]['subjects'])):\n",
    "            self.enrolled_subjects.append(students['students'][self.email]['subjects'][i]['subject'])\n",
    "            \n",
    "        students = self.data_controller.get_student_data()\n",
    "        student = self.email\n",
    "        # Read current amount of subjects already enrolled\n",
    "        if len(self.enrolled_subjects) >= 4:\n",
    "            messagebox.showerror('Enrollment Error', 'Cannot enroll in more than 4 subjects')\n",
    "            return\n",
    "        if subject in self.enrolled_subjects:\n",
    "            messagebox.showinfo('Enrollment Info', 'Already enrolled in this subject')\n",
    "            return\n",
    "        self.enrolled_subjects.append(subject)\n",
    "        mark, grade = self.subjects.Gen_Results()\n",
    "        # print(students)\n",
    "        students[self.email]['subjects'].append({'subject': subject, 'mark': mark, 'grade': grade})\n",
    "\n",
    "        self.db.write(students)\n",
    "        \n",
    "        # messagebox.showinfo('Enrollment Success', f'Successfully enrolled in {subject}')"
   ]
  },
  {
   "cell_type": "code",
   "execution_count": 130,
   "id": "130fd422-480e-4ae1-aed4-9997217f6a51",
   "metadata": {},
   "outputs": [
    {
     "name": "stdout",
     "output_type": "stream",
     "text": [
      "Checking if 'C:\\Users\\markp\\OneDrive\\Documents\\GitHub\\Uni Work\\32555 - Fund._of_Software_Dev\\32555_Software_Fund\\student.data' exists...\n",
      "File 'C:\\Users\\markp\\OneDrive\\Documents\\GitHub\\Uni Work\\32555 - Fund._of_Software_Dev\\32555_Software_Fund\\student.data' exists.\n"
     ]
    }
   ],
   "source": [
    "gui = GUIUniApp()"
   ]
  },
  {
   "cell_type": "code",
   "execution_count": 131,
   "id": "4784a525-c2c4-4124-b05e-a799288f1760",
   "metadata": {},
   "outputs": [
    {
     "name": "stdout",
     "output_type": "stream",
     "text": [
      "{'students': {'anamarija.bojceska@university.com': {'first_name': 'anamarija', 'last_name': 'bojceska', 'email': 'anamarija.bojceska@university.com', 'password': 'Helloworld123', 'student_id': '208349', 'subjects': [{'subject': '085', 'mark': 32, 'grade': 'F'}, {'subject': '084', 'mark': 100, 'grade': 'HD'}, {'subject': '723', 'mark': 77, 'grade': 'D'}, {'subject': '216', 'mark': 25, 'grade': 'F'}]}, 'first.name@university.com': {'first_name': 'first', 'last_name': 'name', 'email': 'first.name@university.com', 'password': 'Helloworld123', 'student_id': '892758'}, 'newname.lastnmae@university.com': {'first_name': 'newname', 'last_name': 'lastnmae', 'email': 'newname.lastnmae@university.com', 'password': 'Helloworld123', 'student_id': '251922'}, 'bobby.smith@university.com': {'first_name': 'bobby', 'last_name': 'smith', 'email': 'bobby.smith@university.com', 'password': 'Helloworld123', 'student_id': '284263'}, 'hello.world@university.com': {'first_name': 'hello', 'last_name': 'world', 'email': 'hello.world@university.com', 'password': 'Helloworld123', 'student_id': '849445'}}, 'used_ids': [849445, 284263, 251922, 892758, 208349]}\n",
      "{'anamarija.bojceska@university.com': {'first_name': 'anamarija', 'last_name': 'bojceska', 'email': 'anamarija.bojceska@university.com', 'password': 'Helloworld123', 'student_id': '208349', 'subjects': [{'subject': '085', 'mark': 32, 'grade': 'F'}, {'subject': '084', 'mark': 100, 'grade': 'HD'}, {'subject': '723', 'mark': 77, 'grade': 'D'}, {'subject': '216', 'mark': 25, 'grade': 'F'}]}, 'first.name@university.com': {'first_name': 'first', 'last_name': 'name', 'email': 'first.name@university.com', 'password': 'Helloworld123', 'student_id': '892758'}, 'newname.lastnmae@university.com': {'first_name': 'newname', 'last_name': 'lastnmae', 'email': 'newname.lastnmae@university.com', 'password': 'Helloworld123', 'student_id': '251922'}, 'bobby.smith@university.com': {'first_name': 'bobby', 'last_name': 'smith', 'email': 'bobby.smith@university.com', 'password': 'Helloworld123', 'student_id': '284263'}, 'hello.world@university.com': {'first_name': 'hello', 'last_name': 'world', 'email': 'hello.world@university.com', 'password': 'Helloworld123', 'student_id': '849445'}}\n"
     ]
    },
    {
     "ename": "KeyError",
     "evalue": "'students'",
     "output_type": "error",
     "traceback": [
      "\u001b[1;31m---------------------------------------------------------------------------\u001b[0m",
      "\u001b[1;31mKeyError\u001b[0m                                  Traceback (most recent call last)",
      "Cell \u001b[1;32mIn[131], line 1\u001b[0m\n\u001b[1;32m----> 1\u001b[0m \u001b[43mgui\u001b[49m\u001b[38;5;241;43m.\u001b[39;49m\u001b[43menroll_subject\u001b[49m\u001b[43m(\u001b[49m\u001b[38;5;124;43m'\u001b[39;49m\u001b[38;5;124;43m321\u001b[39;49m\u001b[38;5;124;43m'\u001b[39;49m\u001b[43m)\u001b[49m\n",
      "Cell \u001b[1;32mIn[129], line 38\u001b[0m, in \u001b[0;36mGUIUniApp.enroll_subject\u001b[1;34m(self, subject)\u001b[0m\n\u001b[0;32m     36\u001b[0m mark, grade \u001b[38;5;241m=\u001b[39m \u001b[38;5;28mself\u001b[39m\u001b[38;5;241m.\u001b[39msubjects\u001b[38;5;241m.\u001b[39mGen_Results()\n\u001b[0;32m     37\u001b[0m \u001b[38;5;66;03m# print(students)\u001b[39;00m\n\u001b[1;32m---> 38\u001b[0m \u001b[43mstudents\u001b[49m\u001b[43m[\u001b[49m\u001b[38;5;124;43m'\u001b[39;49m\u001b[38;5;124;43mstudents\u001b[39;49m\u001b[38;5;124;43m'\u001b[39;49m\u001b[43m]\u001b[49m[\u001b[38;5;28mself\u001b[39m\u001b[38;5;241m.\u001b[39memail][\u001b[38;5;124m'\u001b[39m\u001b[38;5;124msubjects\u001b[39m\u001b[38;5;124m'\u001b[39m]\u001b[38;5;241m.\u001b[39mappend({\u001b[38;5;124m'\u001b[39m\u001b[38;5;124msubject\u001b[39m\u001b[38;5;124m'\u001b[39m: subject, \u001b[38;5;124m'\u001b[39m\u001b[38;5;124mmark\u001b[39m\u001b[38;5;124m'\u001b[39m: mark, \u001b[38;5;124m'\u001b[39m\u001b[38;5;124mgrade\u001b[39m\u001b[38;5;124m'\u001b[39m: grade})\n\u001b[0;32m     40\u001b[0m \u001b[38;5;28mself\u001b[39m\u001b[38;5;241m.\u001b[39mdb\u001b[38;5;241m.\u001b[39mwrite(students)\n",
      "\u001b[1;31mKeyError\u001b[0m: 'students'"
     ]
    }
   ],
   "source": [
    "gui.enroll_subject('321')"
   ]
  },
  {
   "cell_type": "code",
   "execution_count": 113,
   "id": "7438290a-c408-45f5-a5df-fbec75db5ede",
   "metadata": {},
   "outputs": [
    {
     "data": {
      "text/plain": [
       "{'students': {'anamarija.bojceska@university.com': {'first_name': 'anamarija',\n",
       "   'last_name': 'bojceska',\n",
       "   'email': 'anamarija.bojceska@university.com',\n",
       "   'password': 'Helloworld123',\n",
       "   'student_id': '208349',\n",
       "   'subjects': [{'subject': '085', 'mark': 32, 'grade': 'F'},\n",
       "    {'subject': '084', 'mark': 100, 'grade': 'HD'},\n",
       "    {'subject': '723', 'mark': 77, 'grade': 'D'},\n",
       "    {'subject': '216', 'mark': 25, 'grade': 'F'}]},\n",
       "  'first.name@university.com': {'first_name': 'first',\n",
       "   'last_name': 'name',\n",
       "   'email': 'first.name@university.com',\n",
       "   'password': 'Helloworld123',\n",
       "   'student_id': '892758'},\n",
       "  'newname.lastnmae@university.com': {'first_name': 'newname',\n",
       "   'last_name': 'lastnmae',\n",
       "   'email': 'newname.lastnmae@university.com',\n",
       "   'password': 'Helloworld123',\n",
       "   'student_id': '251922'},\n",
       "  'bobby.smith@university.com': {'first_name': 'bobby',\n",
       "   'last_name': 'smith',\n",
       "   'email': 'bobby.smith@university.com',\n",
       "   'password': 'Helloworld123',\n",
       "   'student_id': '284263'},\n",
       "  'hello.world@university.com': {'first_name': 'hello',\n",
       "   'last_name': 'world',\n",
       "   'email': 'hello.world@university.com',\n",
       "   'password': 'Helloworld123',\n",
       "   'student_id': '849445'}},\n",
       " 'used_ids': [849445, 284263, 251922, 892758, 208349]}"
      ]
     },
     "execution_count": 113,
     "metadata": {},
     "output_type": "execute_result"
    }
   ],
   "source": [
    "gui.db.read()"
   ]
  },
  {
   "cell_type": "code",
   "execution_count": 110,
   "id": "3a203998-4f37-4d99-8b94-b2b37df22be8",
   "metadata": {},
   "outputs": [],
   "source": [
    "class DataManager:\n",
    "    def __init__(self, filepath):\n",
    "        self.filepath = filepath\n",
    "        self.data = self.load_data()\n",
    "\n",
    "    def load_data(self):\n",
    "        if not os.path.exists(self.filepath):\n",
    "            print(f\"{self.filepath} not found, creating new file.\")\n",
    "            self.save_data({})\n",
    "            return {}\n",
    "        with open(self.filepath, 'r') as file:\n",
    "            try:\n",
    "                return json.load(file)\n",
    "            except json.JSONDecodeError:\n",
    "                print(\"Empty or corrupted file, creating a new one.\")\n",
    "                self.save_data({})\n",
    "                return {}\n",
    "\n",
    "    def save_data(self, data):\n",
    "        with open(self.filepath, 'w') as file:\n",
    "            json.dump(data, file, indent=2)\n",
    "            print(\"Data saved to file.\")\n",
    "\n",
    "    def get_student_data(self):\n",
    "        return self.data.get('students', {})\n",
    "\n",
    "    def update_student_data(self, student_data):\n",
    "        self.data['students'] = student_data\n",
    "        self.save_data(self.data)"
   ]
  },
  {
   "cell_type": "code",
   "execution_count": 111,
   "id": "ff3b98c5-366b-48fd-8096-273488b7358f",
   "metadata": {},
   "outputs": [],
   "source": [
    "contents = dm.get_student_data()"
   ]
  },
  {
   "cell_type": "code",
   "execution_count": 112,
   "id": "244ffb4d-27b4-4037-887b-8bc147894163",
   "metadata": {},
   "outputs": [
    {
     "data": {
      "text/plain": [
       "{'anamarija.bojceska@university.com': {'first_name': 'anamarija',\n",
       "  'last_name': 'bojceska',\n",
       "  'email': 'anamarija.bojceska@university.com',\n",
       "  'password': 'Helloworld123',\n",
       "  'student_id': '208349',\n",
       "  'subjects': [{'subject': '085', 'mark': 32, 'grade': 'F'},\n",
       "   {'subject': '084', 'mark': 100, 'grade': 'HD'},\n",
       "   {'subject': '723', 'mark': 77, 'grade': 'D'},\n",
       "   {'subject': '216', 'mark': 25, 'grade': 'F'}]},\n",
       " 'first.name@university.com': {'first_name': 'first',\n",
       "  'last_name': 'name',\n",
       "  'email': 'first.name@university.com',\n",
       "  'password': 'Helloworld123',\n",
       "  'student_id': '892758'},\n",
       " 'newname.lastnmae@university.com': {'first_name': 'newname',\n",
       "  'last_name': 'lastnmae',\n",
       "  'email': 'newname.lastnmae@university.com',\n",
       "  'password': 'Helloworld123',\n",
       "  'student_id': '251922'},\n",
       " 'bobby.smith@university.com': {'first_name': 'bobby',\n",
       "  'last_name': 'smith',\n",
       "  'email': 'bobby.smith@university.com',\n",
       "  'password': 'Helloworld123',\n",
       "  'student_id': '284263'},\n",
       " 'hello.world@university.com': {'first_name': 'hello',\n",
       "  'last_name': 'world',\n",
       "  'email': 'hello.world@university.com',\n",
       "  'password': 'Helloworld123',\n",
       "  'student_id': '849445'}}"
      ]
     },
     "execution_count": 112,
     "metadata": {},
     "output_type": "execute_result"
    }
   ],
   "source": [
    "contents"
   ]
  },
  {
   "cell_type": "code",
   "execution_count": 88,
   "id": "04e6965a-f476-411e-905d-82655fa18a07",
   "metadata": {},
   "outputs": [
    {
     "data": {
      "text/plain": [
       "{'anamarija.bojceska@university.com': {'first_name': 'anamarija',\n",
       "  'last_name': 'bojceska',\n",
       "  'email': 'anamarija.bojceska@university.com',\n",
       "  'password': 'Helloworld123',\n",
       "  'student_id': '208349',\n",
       "  'subjects': [{'subject': '085', 'mark': 32, 'grade': 'F'},\n",
       "   {'subject': '084', 'mark': 100, 'grade': 'HD'},\n",
       "   {'subject': '723', 'mark': 77, 'grade': 'D'},\n",
       "   {'subject': '216', 'mark': 25, 'grade': 'F'}]},\n",
       " 'first.name@university.com': {'first_name': 'first',\n",
       "  'last_name': 'name',\n",
       "  'email': 'first.name@university.com',\n",
       "  'password': 'Helloworld123',\n",
       "  'student_id': '892758'},\n",
       " 'newname.lastnmae@university.com': {'first_name': 'newname',\n",
       "  'last_name': 'lastnmae',\n",
       "  'email': 'newname.lastnmae@university.com',\n",
       "  'password': 'Helloworld123',\n",
       "  'student_id': '251922'},\n",
       " 'bobby.smith@university.com': {'first_name': 'bobby',\n",
       "  'last_name': 'smith',\n",
       "  'email': 'bobby.smith@university.com',\n",
       "  'password': 'Helloworld123',\n",
       "  'student_id': '284263'},\n",
       " 'hello.world@university.com': {'first_name': 'hello',\n",
       "  'last_name': 'world',\n",
       "  'email': 'hello.world@university.com',\n",
       "  'password': 'Helloworld123',\n",
       "  'student_id': '849445'}}"
      ]
     },
     "execution_count": 88,
     "metadata": {},
     "output_type": "execute_result"
    }
   ],
   "source": [
    "contents['first.name;'"
   ]
  },
  {
   "cell_type": "code",
   "execution_count": 71,
   "id": "856aa8c4-48f0-4987-8f60-c409f630d3e4",
   "metadata": {},
   "outputs": [],
   "source": [
    "dm = DataManager(r'C:\\Users\\markp\\OneDrive\\Documents\\GitHub\\Uni Work\\32555 - Fund._of_Software_Dev\\32555_Software_Fund\\student.data')"
   ]
  },
  {
   "cell_type": "code",
   "execution_count": 85,
   "id": "97c75aeb-600e-40d8-b3d5-3259295ca261",
   "metadata": {},
   "outputs": [
    {
     "data": {
      "text/plain": [
       "{'students': {'anamarija.bojceska@university.com': {'first_name': 'anamarija',\n",
       "   'last_name': 'bojceska',\n",
       "   'email': 'anamarija.bojceska@university.com',\n",
       "   'password': 'Helloworld123',\n",
       "   'student_id': '208349',\n",
       "   'subjects': [{'subject': '085', 'mark': 32, 'grade': 'F'},\n",
       "    {'subject': '084', 'mark': 100, 'grade': 'HD'},\n",
       "    {'subject': '723', 'mark': 77, 'grade': 'D'},\n",
       "    {'subject': '216', 'mark': 25, 'grade': 'F'}]},\n",
       "  'first.name@university.com': {'first_name': 'first',\n",
       "   'last_name': 'name',\n",
       "   'email': 'first.name@university.com',\n",
       "   'password': 'Helloworld123',\n",
       "   'student_id': '892758'},\n",
       "  'newname.lastnmae@university.com': {'first_name': 'newname',\n",
       "   'last_name': 'lastnmae',\n",
       "   'email': 'newname.lastnmae@university.com',\n",
       "   'password': 'Helloworld123',\n",
       "   'student_id': '251922'},\n",
       "  'bobby.smith@university.com': {'first_name': 'bobby',\n",
       "   'last_name': 'smith',\n",
       "   'email': 'bobby.smith@university.com',\n",
       "   'password': 'Helloworld123',\n",
       "   'student_id': '284263'},\n",
       "  'hello.world@university.com': {'first_name': 'hello',\n",
       "   'last_name': 'world',\n",
       "   'email': 'hello.world@university.com',\n",
       "   'password': 'Helloworld123',\n",
       "   'student_id': '849445'}},\n",
       " 'used_ids': [849445, 284263, 251922, 892758, 208349]}"
      ]
     },
     "execution_count": 85,
     "metadata": {},
     "output_type": "execute_result"
    }
   ],
   "source": [
    "dm.data"
   ]
  },
  {
   "cell_type": "code",
   "execution_count": 73,
   "id": "0e87a05d-a890-444a-a563-f2f88b4cf164",
   "metadata": {},
   "outputs": [
    {
     "data": {
      "text/plain": [
       "{'anamarija.bojceska@university.com': {'first_name': 'anamarija',\n",
       "  'last_name': 'bojceska',\n",
       "  'email': 'anamarija.bojceska@university.com',\n",
       "  'password': 'Helloworld123',\n",
       "  'student_id': '208349',\n",
       "  'subjects': [{'subject': '085', 'mark': 32, 'grade': 'F'},\n",
       "   {'subject': '084', 'mark': 100, 'grade': 'HD'},\n",
       "   {'subject': '723', 'mark': 77, 'grade': 'D'},\n",
       "   {'subject': '216', 'mark': 25, 'grade': 'F'}]},\n",
       " 'first.name@university.com': {'first_name': 'first',\n",
       "  'last_name': 'name',\n",
       "  'email': 'first.name@university.com',\n",
       "  'password': 'Helloworld123',\n",
       "  'student_id': '892758'},\n",
       " 'newname.lastnmae@university.com': {'first_name': 'newname',\n",
       "  'last_name': 'lastnmae',\n",
       "  'email': 'newname.lastnmae@university.com',\n",
       "  'password': 'Helloworld123',\n",
       "  'student_id': '251922'},\n",
       " 'bobby.smith@university.com': {'first_name': 'bobby',\n",
       "  'last_name': 'smith',\n",
       "  'email': 'bobby.smith@university.com',\n",
       "  'password': 'Helloworld123',\n",
       "  'student_id': '284263'},\n",
       " 'hello.world@university.com': {'first_name': 'hello',\n",
       "  'last_name': 'world',\n",
       "  'email': 'hello.world@university.com',\n",
       "  'password': 'Helloworld123',\n",
       "  'student_id': '849445'}}"
      ]
     },
     "execution_count": 73,
     "metadata": {},
     "output_type": "execute_result"
    }
   ],
   "source": [
    "dm.get_student_data()"
   ]
  },
  {
   "cell_type": "code",
   "execution_count": null,
   "id": "0e12773d-860a-417f-84a2-fe2afe691190",
   "metadata": {},
   "outputs": [],
   "source": []
  }
 ],
 "metadata": {
  "kernelspec": {
   "display_name": "Python 3 (ipykernel)",
   "language": "python",
   "name": "python3"
  },
  "language_info": {
   "codemirror_mode": {
    "name": "ipython",
    "version": 3
   },
   "file_extension": ".py",
   "mimetype": "text/x-python",
   "name": "python",
   "nbconvert_exporter": "python",
   "pygments_lexer": "ipython3",
   "version": "3.9.12"
  }
 },
 "nbformat": 4,
 "nbformat_minor": 5
}
