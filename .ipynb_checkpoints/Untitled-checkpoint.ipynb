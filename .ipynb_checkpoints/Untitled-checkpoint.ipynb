{
 "cells": [
  {
   "cell_type": "code",
   "execution_count": 212,
   "id": "32673c5d-9895-40f8-b541-968562c2d793",
   "metadata": {},
   "outputs": [],
   "source": [
    "from Student_Course_System import SubjectClass as SC"
   ]
  },
  {
   "cell_type": "code",
   "execution_count": 184,
   "id": "45e016eb-6874-4a29-9971-c1409c64dc8f",
   "metadata": {},
   "outputs": [],
   "source": [
    "import sys\n",
    "\n",
    "# Direct path setting\n",
    "sys.path.append(r'C:\\Users\\markp\\OneDrive\\Documents\\GitHub\\Uni Work\\32555 - Fund._of_Software_Dev\\32555_Software_Fund\\GUI')\n",
    "\n",
    "from data_manager import DataManager"
   ]
  },
  {
   "cell_type": "code",
   "execution_count": 186,
   "id": "3665ba65-eca0-4409-b15c-dace668c4dd7",
   "metadata": {},
   "outputs": [],
   "source": [
    "import json\n",
    "import os\n",
    "\n",
    "class DataManager:\n",
    "    def __init__(self, filepath):\n",
    "        self.filepath = filepath\n",
    "        self.data = self.load_data()\n",
    "\n",
    "    def load_data(self):\n",
    "        if not os.path.exists(self.filepath):\n",
    "            print(f\"{self.filepath} not found, creating new file.\")\n",
    "            self.save_data({'students': {}, 'used_ids': [], 'results': {'PASS': [], 'FAIL': []}})\n",
    "            return {}\n",
    "        with open(self.filepath, 'r') as file:\n",
    "            try:\n",
    "                return json.load(file)\n",
    "            except json.JSONDecodeError:\n",
    "                print(\"Empty or corrupted file, creating a new one.\")\n",
    "                self.save_data({})\n",
    "                return {}\n",
    "\n",
    "    def save_data(self, data):\n",
    "        with open(self.filepath, 'w') as file:\n",
    "            json.dump(data, file, indent=2)\n",
    "            print(\"Data saved to file.\")\n",
    "\n",
    "    def get_student_data(self):\n",
    "        return self.data.get('students', {})\n",
    "\n",
    "    def update_student_data(self, student_data):\n",
    "        self.data['students'] = student_data\n",
    "        self.save_data(self.data)\n",
    "        \n",
    "    def update_results(self, pass_results, fail_results):\n",
    "        # Ensure the 'results' key exists in the data dictionary\n",
    "        if 'results' not in self.data:\n",
    "            self.data['results'] = {'PASS': [], 'FAIL': []}  # Initialize both PASS and FAIL lists\n",
    "\n",
    "        # Now safely assign the results\n",
    "        self.data['results']['PASS'] = pass_results\n",
    "        self.data['results']['FAIL'] = fail_results\n",
    "\n",
    "        # Save the updated data back to the file\n",
    "        self.save_data(self.data)"
   ]
  },
  {
   "cell_type": "code",
   "execution_count": 191,
   "id": "2e9de024-3457-4342-bcde-3c1d26de0c19",
   "metadata": {},
   "outputs": [],
   "source": [
    "dm = DataManager('student.data')"
   ]
  },
  {
   "cell_type": "code",
   "execution_count": 195,
   "id": "907a0545-0179-4029-9960-4d98c334be08",
   "metadata": {},
   "outputs": [],
   "source": [
    "data = dm.load_data()\n",
    "data['results']['PASS']"
   ]
  },
  {
   "cell_type": "code",
   "execution_count": 213,
   "id": "8e5cff70-9c06-42cb-9c93-c8793d85eba7",
   "metadata": {
    "tags": []
   },
   "outputs": [
    {
     "name": "stdout",
     "output_type": "stream",
     "text": [
      "File 'student.data' already exists.\n",
      "File 'student.data' already exists.\n",
      "\u001b[96mAdmin System (c/g/p/r/s/x):\u001b[0m "
     ]
    },
    {
     "name": "stdin",
     "output_type": "stream",
     "text": [
      " P\n"
     ]
    },
    {
     "name": "stdout",
     "output_type": "stream",
     "text": [
      "Data saved to file.\n",
      "\u001b[93mPASS/FAIL Partition\u001b[0m\n",
      "PASS -> ['anamarija bojceska :: 208349 --> GRADE:  C - MARK: 67']\n",
      "FAIL -> []\n",
      "\u001b[96mAdmin System (c/g/p/r/s/x):\u001b[0m "
     ]
    },
    {
     "name": "stdin",
     "output_type": "stream",
     "text": [
      " X\n"
     ]
    },
    {
     "name": "stdout",
     "output_type": "stream",
     "text": [
      "Exiting admin system.\n"
     ]
    }
   ],
   "source": [
    "import os\n",
    "import json\n",
    "\n",
    "class DataBase:\n",
    "    def __init__(self, filename=\"student.data\"):\n",
    "        self.filename = filename\n",
    "        self.dm = DataManager(filename)\n",
    "        self.check_and_create_file()\n",
    "\n",
    "    def check_and_create_file(self):\n",
    "        if not os.path.exists(self.filename):\n",
    "            with open(self.filename, 'w') as file:\n",
    "                file.write(json.dumps({\"students\": {}, \"used_ids\": []}))\n",
    "                print(f\"File '{self.filename}' created.\")\n",
    "        else:\n",
    "            print(f\"File '{self.filename}' already exists.\")\n",
    "\n",
    "    def write(self, data):\n",
    "        with open(self.filename, 'w') as fileHandler:\n",
    "            json.dump(data, fileHandler, indent=2)\n",
    "            print(f\"Data written to {self.filename}\")\n",
    "\n",
    "    def read(self):\n",
    "        try:\n",
    "            with open(self.filename, 'r') as fileHandler:\n",
    "                return json.load(fileHandler)\n",
    "        except json.JSONDecodeError:\n",
    "            print(\"Error: JSON file contains invalid JSON.\")\n",
    "            return {\"students\": {}, \"used_ids\": []}\n",
    "        except FileNotFoundError:\n",
    "            print(f\"File '{self.filename}' does not exist.\")\n",
    "            return {\"students\": {}, \"used_ids\": []}\n",
    "        except Exception as e:\n",
    "            print(f\"An error occurred: {e}\")\n",
    "            return {\"students\": {}, \"used_ids\": []}\n",
    "\n",
    "    def list_students(self):\n",
    "        data = self.read()\n",
    "        return data['students'].values()\n",
    "\n",
    "    def group_students_by_grade(self):\n",
    "        data = self.dm.load_data()  # Ensures you are working with the latest data\n",
    "        grade_groups = {'HD': [], 'D': [], 'C': [], 'P': [], 'F': []}\n",
    "\n",
    "        for student in data.get('students', {}).values():\n",
    "            if 'subjects' not in student:\n",
    "                continue\n",
    "            total_marks = sum(int(subject['mark']) for subject in student.get('subjects', []))\n",
    "            average_mark = round(total_marks / len(student['subjects'])) if student['subjects'] else 0\n",
    "            grade = SubjectClass.Classify_Results(average_mark)\n",
    "            name = f\"{student['first_name']} {student['last_name']}\"\n",
    "            stu_id = student['student_id']\n",
    "            student_info = f\"{name} : {stu_id} --> GRADE: {grade} - MARK: {average_mark}\"\n",
    "\n",
    "            if grade in grade_groups:\n",
    "                grade_groups[grade].append(student_info)\n",
    "\n",
    "        # Update the data with new grade groups\n",
    "        if 'grade_groups' not in data:\n",
    "            data['grade_groups'] = {}\n",
    "        data['grade_groups'] = grade_groups\n",
    "        self.dm.save_data(data)  # Saving the updated data\n",
    "    \n",
    "    return grade_groups\n",
    "\n",
    "    def get_pass_fail(self):\n",
    "        data = self.dm.load_data()  # Ensures you are working with the latest data\n",
    "        pass_results = []\n",
    "        fail_results = []\n",
    "\n",
    "        for student in data.get('students', {}).values():\n",
    "            if 'subjects' not in student:\n",
    "                continue\n",
    "            total_marks = sum(int(subject['mark']) for subject in student.get('subjects', []))\n",
    "            average_mark = round(total_marks / len(student['subjects']))\n",
    "            grade = SC.Classify_Results(average_mark)\n",
    "            name = f\"{student['first_name']} {student['last_name']}\"\n",
    "            stu_id = student['student_id']\n",
    "            result_entry = f\"{name} :: {stu_id} --> GRADE:  {grade} - MARK: {average_mark}\"\n",
    "            \n",
    "            if average_mark >= 50:\n",
    "                pass_results.append(result_entry)\n",
    "            else:\n",
    "                fail_results.append(result_entry)\n",
    "\n",
    "        # Update the data with new results\n",
    "        if 'results' not in data:\n",
    "            data['results'] = {}\n",
    "        data['results']['PASS'] = pass_results\n",
    "        data['results']['FAIL'] = fail_results\n",
    "        self.dm.save_data(data)  # Saving the updated data\n",
    "        \n",
    "        return data['results']\n",
    "    \n",
    "    def remove_student_by_id(self, student_id):\n",
    "        data = self.read()\n",
    "        stu_data = data['students']\n",
    "        stu_ids = data['used_ids']\n",
    "        \n",
    "        # Ensure student_id is a string for consistent handling\n",
    "        student_id = str(student_id)\n",
    "\n",
    "        # Check and remove the student from students dictionary\n",
    "        student_to_remove = None\n",
    "        for student_email, details in stu_data.items():\n",
    "            if details['student_id'] == student_id:\n",
    "                student_to_remove = student_email\n",
    "                break\n",
    "\n",
    "        if student_to_remove:\n",
    "            # Remove the student from the dictionary\n",
    "            del stu_data[student_to_remove]\n",
    "            # Try to remove student_id from used_ids\n",
    "            try:\n",
    "                \n",
    "                stu_ids = [str(id) for id in stu_ids] # List comprehension \n",
    "                stu_ids.remove(student_id)\n",
    "                data['students'] = stu_data  \n",
    "                data['used_ids'] = [int(id) for id in stu_ids]  # List comprehension \n",
    "                db.write(data)  # Write data back to file\n",
    "                return True\n",
    "            except ValueError:\n",
    "                print(f\"Error: ID {student_id} not found in the used_ids list.\")\n",
    "        return False\n",
    "\n",
    "    def clear_all_students(self):\n",
    "        self.write({\"students\": {}, \"used_ids\": []})\n",
    "\n",
    "class AdminSystem:\n",
    "    def __init__(self, student_database):\n",
    "        self.student_database = student_database\n",
    "        self.db = DataBase()\n",
    "        \n",
    "    def partition_students(self):\n",
    "        pass_fail = self.student_database.get_pass_fail()  # Correctly access through DataBase\n",
    "        print(\"\\033[93mPASS/FAIL Partition\\033[0m\")\n",
    "        print(f\"PASS -> {pass_fail['PASS']}\")\n",
    "        print(f\"FAIL -> {pass_fail['FAIL']}\")\n",
    "        \n",
    "    def clear_students(self):\n",
    "        confirmation = input(\"\\033[91mAre you sure you want to clear the database (Y/ES/(N)O): \\033[0m\").strip().upper()\n",
    "        print(\"\\033[93mClearing students database\\033[0\")\n",
    "        if confirmation == 'Y':\n",
    "            self.student_database.clear_all_students()\n",
    "            print(\"\\033[93mStudents data cleared\\033[0m\")\n",
    "\n",
    "    def group_students(self):\n",
    "        grades = self.student_database.get_students_by_grade()\n",
    "        print(\"\\033[93mGrade Grouping\\033[0m\")\n",
    "        if grades:\n",
    "            for grade, students in grades.items():\n",
    "                print(f\"Grade: {grade} -> {', '.join([str(student) for student in students])}\")\n",
    "\n",
    "    def remove_student(self):\n",
    "        student_id = input(\"Remove by ID: \").strip()\n",
    "        result = self.student_database.remove_student_by_id(student_id)\n",
    "        \n",
    "        if result:\n",
    "            print(f\"\\033[93mRemoving Student {student_id} Account\\033[0m\")\n",
    "        else:\n",
    "            print(f\"\\033[91mStudent {student_id} does not exist\\033[0m\")\n",
    "\n",
    "    def show_students(self):\n",
    "        students = self.student_database.list_students()\n",
    "        if students:\n",
    "            for student in students:\n",
    "                print(\"\\033[93mStudent List\\033[0m\")\n",
    "                print(f\"{student['name']} :: {student['id']} --> Email: {student['email']}\")\n",
    "        else:\n",
    "            print(\"< Nothing to Display >\")\n",
    "\n",
    "    def admin_menu(self):\n",
    "        admin_running = True\n",
    "        while admin_running:\n",
    "            print(\"\\033[96mAdmin System (c/g/p/r/s/x):\\033[0m \", end=\"\")\n",
    "            choice = input().strip().lower()\n",
    "            if choice == 'c':\n",
    "                self.clear_students()\n",
    "            elif choice == 'g':\n",
    "                self.group_students()\n",
    "            elif choice == 'p':\n",
    "                self.partition_students()\n",
    "            elif choice == 'r':\n",
    "                self.remove_student()\n",
    "            elif choice == 's':\n",
    "                self.show_students()\n",
    "            elif choice == 'x':\n",
    "                print(\"Exiting admin system.\")\n",
    "                admin_running = False\n",
    "            else:\n",
    "                print(\"Invalid option, please try again.\")\n",
    "\n",
    "db = DataBase()\n",
    "admin_system = AdminSystem(db)\n",
    "admin_system.admin_menu()"
   ]
  },
  {
   "cell_type": "code",
   "execution_count": 159,
   "id": "82387ba5-fcb1-423a-b376-3db70e4ae38a",
   "metadata": {},
   "outputs": [],
   "source": [
    "def get_pass_fail(data_manager):\n",
    "    data = data_manager.load_data()  # Get the latest data\n",
    "    pass_results = []\n",
    "    fail_results = []\n",
    "\n",
    "    for student in data['students'].values():\n",
    "        if 'subjects' not in student:\n",
    "            continue\n",
    "        total_marks = sum(int(subject['mark']) for subject in student['subjects'])\n",
    "        average_mark = round(total_marks / len(student['subjects']), 2) if student['subjects'] else 0\n",
    "\n",
    "        name = f\"{student['first_name']} {student['last_name']}\"\n",
    "        stu_id = student['student_id']\n",
    "        student_result = f\"{name} :: {stu_id} - MARK: {average_mark}\"\n",
    "\n",
    "        if average_mark >= 50:\n",
    "            pass_results.append(student_result)\n",
    "        else:\n",
    "            fail_results.append(student_result)\n",
    "\n",
    "    # Update the results in the data file\n",
    "    data_manager.update_results(pass_results, fail_results)"
   ]
  },
  {
   "cell_type": "code",
   "execution_count": 161,
   "id": "5afbb96e-55d2-41f8-8bb7-c9f31a16a90f",
   "metadata": {},
   "outputs": [
    {
     "ename": "TypeError",
     "evalue": "load_data() missing 1 required positional argument: 'self'",
     "output_type": "error",
     "traceback": [
      "\u001b[1;31m---------------------------------------------------------------------------\u001b[0m",
      "\u001b[1;31mTypeError\u001b[0m                                 Traceback (most recent call last)",
      "Cell \u001b[1;32mIn[161], line 1\u001b[0m\n\u001b[1;32m----> 1\u001b[0m \u001b[43mget_pass_fail\u001b[49m\u001b[43m(\u001b[49m\u001b[43mDataManager\u001b[49m\u001b[43m)\u001b[49m\n",
      "Cell \u001b[1;32mIn[159], line 2\u001b[0m, in \u001b[0;36mget_pass_fail\u001b[1;34m(data_manager)\u001b[0m\n\u001b[0;32m      1\u001b[0m \u001b[38;5;28;01mdef\u001b[39;00m \u001b[38;5;21mget_pass_fail\u001b[39m(data_manager):\n\u001b[1;32m----> 2\u001b[0m     data \u001b[38;5;241m=\u001b[39m \u001b[43mdata_manager\u001b[49m\u001b[38;5;241;43m.\u001b[39;49m\u001b[43mload_data\u001b[49m\u001b[43m(\u001b[49m\u001b[43m)\u001b[49m  \u001b[38;5;66;03m# Get the latest data\u001b[39;00m\n\u001b[0;32m      3\u001b[0m     pass_results \u001b[38;5;241m=\u001b[39m []\n\u001b[0;32m      4\u001b[0m     fail_results \u001b[38;5;241m=\u001b[39m []\n",
      "\u001b[1;31mTypeError\u001b[0m: load_data() missing 1 required positional argument: 'self'"
     ]
    }
   ],
   "source": [
    "get_pass_fail(DataManager)"
   ]
  },
  {
   "cell_type": "code",
   "execution_count": 188,
   "id": "19e6cce0-7c65-4410-8fa1-da5feb687e79",
   "metadata": {},
   "outputs": [
    {
     "name": "stdout",
     "output_type": "stream",
     "text": [
      "anamarija bojceska :: 208349 --> GRADE:  C - MARK: 67.33\n"
     ]
    }
   ],
   "source": [
    "data = db.read()\n",
    "results = {'PASS': ['-->'], 'FAIL': ['-->']}\n",
    "for student in data['students'].values():\n",
    "    if 'subjects' not in student:\n",
    "        continue\n",
    "    total_marks = 0\n",
    "    for sub in range(len(student['subjects'])):\n",
    "        total_marks += int(student['subjects'][sub]['mark'])\n",
    "    average_mark = round(total_marks / len(student['subjects']), 2)\n",
    "    grade = SC.Classify_Results(average_mark)\n",
    "    name = f\"{student['first_name']} {student['last_name']}\"\n",
    "    stu_id = student['student_id']\n",
    "    total_input = f\"{name} :: {stu_id} --> GRADE:  {grade} - MARK: {average_mark}\"\n",
    "    print(total_input)\n",
    "    if average_mark >= 50:\n",
    "        results['PASS'].append(total_input)\n",
    "    else:\n",
    "        results['fail'].append(student)"
   ]
  },
  {
   "cell_type": "code",
   "execution_count": 150,
   "id": "f7941134-4a02-4c4d-bfce-cedf1788fc1d",
   "metadata": {},
   "outputs": [
    {
     "data": {
      "text/plain": [
       "{'PASS': ['-->', 'anamarija bojceska :: 208349 --> GRADE:  C - MARK: 67.33'],\n",
       " 'FAIL': ['-->']}"
      ]
     },
     "execution_count": 150,
     "metadata": {},
     "output_type": "execute_result"
    }
   ],
   "source": [
    "results"
   ]
  },
  {
   "cell_type": "code",
   "execution_count": 109,
   "id": "c2112b9d-2f0f-4ef6-873e-fa952e7b4baa",
   "metadata": {},
   "outputs": [
    {
     "ename": "TypeError",
     "evalue": "'>=' not supported between instances of 'NoneType' and 'int'",
     "output_type": "error",
     "traceback": [
      "\u001b[1;31m---------------------------------------------------------------------------\u001b[0m",
      "\u001b[1;31mTypeError\u001b[0m                                 Traceback (most recent call last)",
      "Cell \u001b[1;32mIn[109], line 1\u001b[0m\n\u001b[1;32m----> 1\u001b[0m \u001b[43mget_pass_fail\u001b[49m\u001b[43m(\u001b[49m\u001b[43m)\u001b[49m\n",
      "Cell \u001b[1;32mIn[108], line 5\u001b[0m, in \u001b[0;36mget_pass_fail\u001b[1;34m()\u001b[0m\n\u001b[0;32m      3\u001b[0m results \u001b[38;5;241m=\u001b[39m {\u001b[38;5;124m'\u001b[39m\u001b[38;5;124mpass\u001b[39m\u001b[38;5;124m'\u001b[39m: [], \u001b[38;5;124m'\u001b[39m\u001b[38;5;124mfail\u001b[39m\u001b[38;5;124m'\u001b[39m: []}\n\u001b[0;32m      4\u001b[0m \u001b[38;5;28;01mfor\u001b[39;00m student \u001b[38;5;129;01min\u001b[39;00m data[\u001b[38;5;124m'\u001b[39m\u001b[38;5;124mstudents\u001b[39m\u001b[38;5;124m'\u001b[39m]\u001b[38;5;241m.\u001b[39mvalues():\n\u001b[1;32m----> 5\u001b[0m     \u001b[38;5;28;01mif\u001b[39;00m \u001b[43mstudent\u001b[49m\u001b[38;5;241;43m.\u001b[39;49m\u001b[43mget\u001b[49m\u001b[43m(\u001b[49m\u001b[38;5;124;43m'\u001b[39;49m\u001b[38;5;124;43mmark\u001b[39;49m\u001b[38;5;124;43m'\u001b[39;49m\u001b[43m)\u001b[49m\u001b[43m \u001b[49m\u001b[38;5;241;43m>\u001b[39;49m\u001b[38;5;241;43m=\u001b[39;49m\u001b[43m \u001b[49m\u001b[38;5;241;43m60\u001b[39;49m:\n\u001b[0;32m      6\u001b[0m         results[\u001b[38;5;124m'\u001b[39m\u001b[38;5;124mpass\u001b[39m\u001b[38;5;124m'\u001b[39m]\u001b[38;5;241m.\u001b[39mappend(student)\n\u001b[0;32m      7\u001b[0m     \u001b[38;5;28;01melse\u001b[39;00m:\n",
      "\u001b[1;31mTypeError\u001b[0m: '>=' not supported between instances of 'NoneType' and 'int'"
     ]
    }
   ],
   "source": [
    "get_pass_fail()"
   ]
  },
  {
   "cell_type": "code",
   "execution_count": null,
   "id": "89ded2ae-c4ed-42c6-a1ea-9c057f468b34",
   "metadata": {},
   "outputs": [],
   "source": [
    "def partition_students(self):\n",
    "    pass_fail = self.student_database.get_pass_fail()\n",
    "    print(\"\\033[93mPASS/FAIL Partition\\033[0m\")\n",
    "    print(f\"PASS -> {pass_fail['pass']}\")\n",
    "    print(f\"FAIL -> {pass_fail['fail']}\")"
   ]
  },
  {
   "cell_type": "code",
   "execution_count": null,
   "id": "b3bc278b-2924-4bb3-9cc3-ca4a59f51b6c",
   "metadata": {},
   "outputs": [],
   "source": []
  },
  {
   "cell_type": "code",
   "execution_count": null,
   "id": "c4a67328-a73f-4e8c-98a0-e1ec9a862a2f",
   "metadata": {},
   "outputs": [],
   "source": []
  },
  {
   "cell_type": "code",
   "execution_count": null,
   "id": "9f1d1b1a-7d8e-4b33-8655-6ad64bb256a9",
   "metadata": {},
   "outputs": [],
   "source": []
  },
  {
   "cell_type": "code",
   "execution_count": null,
   "id": "09fbe1a5-6ba9-4214-be31-d82cd1b66f71",
   "metadata": {},
   "outputs": [],
   "source": []
  },
  {
   "cell_type": "code",
   "execution_count": 81,
   "id": "84162dd2-ffce-4b4f-8840-485b767339e0",
   "metadata": {},
   "outputs": [
    {
     "data": {
      "text/plain": [
       "{'anamarija.bojceska@university.com': {'first_name': 'anamarija',\n",
       "  'last_name': 'bojceska',\n",
       "  'email': 'anamarija.bojceska@university.com',\n",
       "  'password': 'Helloworld123',\n",
       "  'student_id': '208349',\n",
       "  'subjects': [{'subject': '084', 'mark': 100, 'grade': 'HD'},\n",
       "   {'subject': '723', 'mark': 77, 'grade': 'D'},\n",
       "   {'subject': '216', 'mark': 25, 'grade': 'F'}]},\n",
       " 'first.name@university.com': {'first_name': 'first',\n",
       "  'last_name': 'name',\n",
       "  'email': 'first.name@university.com',\n",
       "  'password': 'Helloworld123',\n",
       "  'student_id': '892758'},\n",
       " 'newname.lastnmae@university.com': {'first_name': 'newname',\n",
       "  'last_name': 'lastnmae',\n",
       "  'email': 'newname.lastnmae@university.com',\n",
       "  'password': 'Helloworld123',\n",
       "  'student_id': '251922'},\n",
       " 'bobby.smith@university.com': {'first_name': 'bobby',\n",
       "  'last_name': 'smith',\n",
       "  'email': 'bobby.smith@university.com',\n",
       "  'password': 'Helloworld123',\n",
       "  'student_id': '284263'},\n",
       " 'hello.world@university.com': {'first_name': 'hello',\n",
       "  'last_name': 'world',\n",
       "  'email': 'hello.world@university.com',\n",
       "  'password': 'Helloworld123',\n",
       "  'student_id': '849445'}}"
      ]
     },
     "execution_count": 81,
     "metadata": {},
     "output_type": "execute_result"
    }
   ],
   "source": [
    "data = db.read()\n",
    "data = data['students']\n",
    "data"
   ]
  },
  {
   "cell_type": "code",
   "execution_count": 105,
   "id": "27a87981-5e99-4722-935d-17c15ca41046",
   "metadata": {},
   "outputs": [],
   "source": [
    "def remove_student_by_id(student_id):\n",
    "    data = db.read()\n",
    "    stu_data = data['students']\n",
    "    stu_ids = data['used_ids']\n",
    "    print(stu_data)\n",
    "    print(stu_ids)\n",
    "\n",
    "    # Ensure student_id is a string for consistent handling\n",
    "    student_id = str(student_id)\n",
    "\n",
    "    # Check and remove the student from students dictionary\n",
    "    student_to_remove = None\n",
    "    for student_email, details in stu_data.items():\n",
    "        if details['student_id'] == student_id:\n",
    "            student_to_remove = student_email\n",
    "            print('match')\n",
    "            break\n",
    "\n",
    "    if student_to_remove:\n",
    "        # Remove the student from the dictionary\n",
    "        del stu_data[student_to_remove]\n",
    "        # Try to remove student_id from used_ids\n",
    "        try:\n",
    "            # Ensure all IDs in used_ids are strings before attempting to remove\n",
    "            stu_ids = [str(id) for id in stu_ids]\n",
    "            stu_ids.remove(student_id)\n",
    "            data['students'] = stu_data  # Update the main data dictionary\n",
    "            data['used_ids'] = [int(id) for id in stu_ids]  # Convert back if necessary\n",
    "            db.write(data)  # Write the entire data back to the file\n",
    "            return True\n",
    "        except ValueError:\n",
    "            print(f\"Error: ID {student_id} not found in the used_ids list.\")\n",
    "    return False"
   ]
  },
  {
   "cell_type": "code",
   "execution_count": 106,
   "id": "f22491f1-bf1d-4039-9405-5ad858695cc9",
   "metadata": {},
   "outputs": [
    {
     "name": "stdout",
     "output_type": "stream",
     "text": [
      "{'anamarija.bojceska@university.com': {'first_name': 'anamarija', 'last_name': 'bojceska', 'email': 'anamarija.bojceska@university.com', 'password': 'Helloworld123', 'student_id': '208349', 'subjects': [{'subject': '084', 'mark': 100, 'grade': 'HD'}, {'subject': '723', 'mark': 77, 'grade': 'D'}, {'subject': '216', 'mark': 25, 'grade': 'F'}]}, 'first.name@university.com': {'first_name': 'first', 'last_name': 'name', 'email': 'first.name@university.com', 'password': 'Helloworld123', 'student_id': '892758'}, 'newname.lastnmae@university.com': {'first_name': 'newname', 'last_name': 'lastnmae', 'email': 'newname.lastnmae@university.com', 'password': 'Helloworld123', 'student_id': '251922'}, 'bobby.smith@university.com': {'first_name': 'bobby', 'last_name': 'smith', 'email': 'bobby.smith@university.com', 'password': 'Helloworld123', 'student_id': '284263'}, 'hello.world@university.com': {'first_name': 'hello', 'last_name': 'world', 'email': 'hello.world@university.com', 'password': 'Helloworld123', 'student_id': '849445'}}\n",
      "[849445, 284263, 251922, 892758, 208349]\n",
      "match\n",
      "Data written to student.data\n"
     ]
    },
    {
     "data": {
      "text/plain": [
       "True"
      ]
     },
     "execution_count": 106,
     "metadata": {},
     "output_type": "execute_result"
    }
   ],
   "source": [
    "remove_student_by_id('251922')"
   ]
  },
  {
   "cell_type": "code",
   "execution_count": 74,
   "id": "4a17bc5d-7763-44af-bbe0-efabcfaf6bde",
   "metadata": {},
   "outputs": [
    {
     "name": "stdout",
     "output_type": "stream",
     "text": [
      "208349\n",
      "match\n",
      "892758\n",
      "none\n",
      "251922\n",
      "none\n",
      "284263\n",
      "none\n",
      "849445\n",
      "none\n"
     ]
    }
   ],
   "source": [
    "for student in data.keys():\n",
    "    if data[student]['student_id'] == '208349':\n"
   ]
  },
  {
   "cell_type": "code",
   "execution_count": null,
   "id": "e6f79f4f-cf2b-4cdb-a9f7-92400774b953",
   "metadata": {},
   "outputs": [],
   "source": []
  }
 ],
 "metadata": {
  "kernelspec": {
   "display_name": "Python 3 (ipykernel)",
   "language": "python",
   "name": "python3"
  },
  "language_info": {
   "codemirror_mode": {
    "name": "ipython",
    "version": 3
   },
   "file_extension": ".py",
   "mimetype": "text/x-python",
   "name": "python",
   "nbconvert_exporter": "python",
   "pygments_lexer": "ipython3",
   "version": "3.9.12"
  }
 },
 "nbformat": 4,
 "nbformat_minor": 5
}
